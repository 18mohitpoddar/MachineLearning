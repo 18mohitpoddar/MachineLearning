{
 "cells": [
  {
   "cell_type": "code",
   "execution_count": 1,
   "metadata": {},
   "outputs": [],
   "source": [
    "import numpy as np\n",
    "import pandas as pd\n",
    "import matplotlib.pyplot as plt\n",
    "\n",
    "from sklearn.model_selection import train_test_split\n",
    "from sklearn.linear_model import LogisticRegression\n",
    "from sklearn import datasets\n",
    "from sklearn.metrics import accuracy_score, precision_score, recall_score, f1_score\n",
    "from sklearn.metrics import confusion_matrix "
   ]
  },
  {
   "cell_type": "code",
   "execution_count": 2,
   "metadata": {},
   "outputs": [],
   "source": [
    "iris_data = datasets.load_iris()"
   ]
  },
  {
   "cell_type": "code",
   "execution_count": 3,
   "metadata": {},
   "outputs": [],
   "source": [
    "iris = pd.DataFrame(iris_data.data, columns=iris_data.feature_names)\n",
    "iris['target'] = iris_data.target"
   ]
  },
  {
   "cell_type": "code",
   "execution_count": 4,
   "metadata": {},
   "outputs": [
    {
     "name": "stdout",
     "output_type": "stream",
     "text": [
      "xtrain shape :  (120, 4)\n",
      "xtest shape  :  (30, 4)\n",
      "ytrain shape :  (120,)\n",
      "ytest shape  :  (30,)\n"
     ]
    }
   ],
   "source": [
    "# Input Data \n",
    "x = iris_data.data \n",
    "   \n",
    "# Output Data \n",
    "y = iris_data.target \n",
    "\n",
    "xtrain, xtest, ytrain, ytest = train_test_split(x, y, test_size =0.2, \n",
    "                                                    random_state = 0) \n",
    "   \n",
    "print(\"xtrain shape : \", xtrain.shape) \n",
    "print(\"xtest shape  : \", xtest.shape) \n",
    "print(\"ytrain shape : \", ytrain.shape) \n",
    "print(\"ytest shape  : \", ytest.shape) "
   ]
  },
  {
   "cell_type": "code",
   "execution_count": 5,
   "metadata": {},
   "outputs": [
    {
     "name": "stderr",
     "output_type": "stream",
     "text": [
      "/home/adarsh/.local/lib/python3.7/site-packages/sklearn/linear_model/_logistic.py:940: ConvergenceWarning: lbfgs failed to converge (status=1):\n",
      "STOP: TOTAL NO. of ITERATIONS REACHED LIMIT.\n",
      "\n",
      "Increase the number of iterations (max_iter) or scale the data as shown in:\n",
      "    https://scikit-learn.org/stable/modules/preprocessing.html\n",
      "Please also refer to the documentation for alternative solver options:\n",
      "    https://scikit-learn.org/stable/modules/linear_model.html#logistic-regression\n",
      "  extra_warning_msg=_LOGISTIC_SOLVER_CONVERGENCE_MSG)\n"
     ]
    }
   ],
   "source": [
    "# Fitting Multi Linear regression model to training model \n",
    "lr =  LogisticRegression()\n",
    "lr.fit(xtrain, ytrain)\n",
    "\n",
    "# predicting the test set results \n",
    "y_pred = lr.predict(xtest) "
   ]
  },
  {
   "cell_type": "code",
   "execution_count": 6,
   "metadata": {},
   "outputs": [
    {
     "name": "stdout",
     "output_type": "stream",
     "text": [
      "Accuracy score:  1.0\n",
      "Precision score:  1.0\n",
      "Recall score:  1.0\n",
      "F1 score:  1.0\n",
      "\n",
      "Confusion Matrix :\n",
      " [[11  0  0]\n",
      " [ 0 13  0]\n",
      " [ 0  0  6]]\n"
     ]
    }
   ],
   "source": [
    "print('Accuracy score: ', format(accuracy_score(ytest, y_pred)))\n",
    "print('Precision score: ', format(precision_score(ytest, y_pred, average='micro')))\n",
    "print('Recall score: ', format(recall_score(ytest, y_pred, average='micro')))\n",
    "print('F1 score: ', format(f1_score(ytest, y_pred, average='micro')))\n",
    "print('\\nConfusion Matrix :\\n', confusion_matrix(ytest, y_pred)) "
   ]
  },
  {
   "cell_type": "markdown",
   "metadata": {},
   "source": [
    "# MLP"
   ]
  },
  {
   "cell_type": "code",
   "execution_count": null,
   "metadata": {},
   "outputs": [],
   "source": [
    "from sklearn.neural_network import MLPClassifier\n",
    "x_train,x_test,y_train,y_test = train_test_split(data1, y ,test_size = 0.3, random_state = 99)\n",
    "print(x_train.shape)\n",
    "print(y_train.shape)\n",
    "print(x_test.shape)\n",
    "print(y_test.shape)\n",
    "model = MLPClassifier(solver='sgd', alpha= 0 ,hidden_layer_sizes=(13,5),random_state=1).fit(data1,y)"
   ]
  }
 ],
 "metadata": {
  "kernelspec": {
   "display_name": "Python 3",
   "language": "python",
   "name": "python3"
  },
  "language_info": {
   "codemirror_mode": {
    "name": "ipython",
    "version": 3
   },
   "file_extension": ".py",
   "mimetype": "text/x-python",
   "name": "python",
   "nbconvert_exporter": "python",
   "pygments_lexer": "ipython3",
   "version": "3.6.9"
  }
 },
 "nbformat": 4,
 "nbformat_minor": 4
}
